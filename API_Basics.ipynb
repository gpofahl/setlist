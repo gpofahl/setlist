{
 "cells": [
  {
   "cell_type": "markdown",
   "id": "dec4578c",
   "metadata": {},
   "source": [
    "# Outline\n",
    "\n",
    "1. Step1\n",
    "2. Step2\n",
    "3. Step3"
   ]
  },
  {
   "cell_type": "code",
   "execution_count": 16,
   "id": "6820032b",
   "metadata": {},
   "outputs": [],
   "source": [
    "import getpass\n",
    "import requests"
   ]
  },
  {
   "cell_type": "code",
   "execution_count": 15,
   "id": "edd60e74",
   "metadata": {
    "scrolled": true
   },
   "outputs": [
    {
     "name": "stdout",
     "output_type": "stream",
     "text": [
      "Paste API Key:········\n"
     ]
    }
   ],
   "source": [
    "api_key = getpass.getpass('Paste API Key:')"
   ]
  },
  {
   "cell_type": "code",
   "execution_count": 25,
   "id": "827264de",
   "metadata": {},
   "outputs": [],
   "source": [
    "import requests\n",
    "\n",
    "def get_weather(city_name, api_key):\n",
    "    # Base URL for the OpenWeatherMap API\n",
    "    base_url = \"http://api.openweathermap.org/data/2.5/weather?\"\n",
    "    \n",
    "    # Construct the complete URL\n",
    "    complete_url = f\"{base_url}q={city_name}&appid={api_key}\"\n",
    "    \n",
    "    # Make the API request\n",
    "    response = requests.get(complete_url)\n",
    "    \n",
    "    # Convert the response to JSON format\n",
    "    data = response.json()\n",
    "    \n",
    "    # Check the HTTP status code\n",
    "    if data[\"cod\"] == 200:\n",
    "        # Extract and print relevant weather information\n",
    "        main_data = data[\"main\"]\n",
    "        weather_data = data[\"weather\"][0]\n",
    "        \n",
    "        temperature = main_data[\"temp\"] - 273.15  # Convert temperature from Kelvin to Celsius\n",
    "        feels_like = main_data[\"feels_like\"] - 273.15\n",
    "        humidity = main_data[\"humidity\"]\n",
    "        weather_description = weather_data[\"description\"]\n",
    "        \n",
    "        print(f\"Weather in {city_name}:\")\n",
    "        print(f\"Temperature: {temperature:.2f}°C\")\n",
    "        print(f\"Feels Like: {feels_like:.2f}°C\")\n",
    "        print(f\"Humidity: {humidity}%\")\n",
    "        print(f\"Description: {weather_description.capitalize()}\")\n",
    "    else:\n",
    "        # Print any error messages\n",
    "        print(data[\"something went wrong with the request\"])\n"
   ]
  },
  {
   "cell_type": "code",
   "execution_count": null,
   "id": "4d727759",
   "metadata": {},
   "outputs": [],
   "source": [
    "city_name = input(\"Enter city name: \")\n",
    "get_weather(city_name, api_key)"
   ]
  }
 ],
 "metadata": {
  "kernelspec": {
   "display_name": "Python 3 (ipykernel)",
   "language": "python",
   "name": "python3"
  },
  "language_info": {
   "codemirror_mode": {
    "name": "ipython",
    "version": 3
   },
   "file_extension": ".py",
   "mimetype": "text/x-python",
   "name": "python",
   "nbconvert_exporter": "python",
   "pygments_lexer": "ipython3",
   "version": "3.11.4"
  }
 },
 "nbformat": 4,
 "nbformat_minor": 5
}
